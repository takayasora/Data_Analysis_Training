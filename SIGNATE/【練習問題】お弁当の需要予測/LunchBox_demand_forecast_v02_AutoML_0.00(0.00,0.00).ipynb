{
 "cells": [
  {
   "cell_type": "code",
   "execution_count": 2,
   "metadata": {},
   "outputs": [
    {
     "name": "stdout",
     "output_type": "stream",
     "text": [
      "Defaulting to user installation because normal site-packages is not writeable\n",
      "Requirement already satisfied: pip in c:\\users\\de\\appdata\\roaming\\python\\python311\\site-packages (23.1.2)\n",
      "Defaulting to user installation because normal site-packages is not writeable\n",
      "Requirement already satisfied: mljar-supervised in c:\\users\\de\\appdata\\roaming\\python\\python311\\site-packages (0.11.5)\n",
      "Requirement already satisfied: numpy>=1.19.5 in c:\\users\\de\\appdata\\roaming\\python\\python311\\site-packages (from mljar-supervised) (1.24.2)\n",
      "Requirement already satisfied: pandas>=1.2.0 in c:\\users\\de\\appdata\\roaming\\python\\python311\\site-packages (from mljar-supervised) (2.0.0)\n",
      "Requirement already satisfied: scipy>=1.6.1 in c:\\users\\de\\appdata\\roaming\\python\\python311\\site-packages (from mljar-supervised) (1.10.1)\n",
      "Requirement already satisfied: scikit-learn>=1.0 in c:\\users\\de\\appdata\\roaming\\python\\python311\\site-packages (from mljar-supervised) (1.2.2)\n",
      "Requirement already satisfied: xgboost>=1.3.3 in c:\\users\\de\\appdata\\roaming\\python\\python311\\site-packages (from mljar-supervised) (1.7.5)\n",
      "Requirement already satisfied: lightgbm>=3.0.0 in c:\\users\\de\\appdata\\roaming\\python\\python311\\site-packages (from mljar-supervised) (3.3.5)\n",
      "Requirement already satisfied: catboost>=0.24.4 in c:\\users\\de\\appdata\\roaming\\python\\python311\\site-packages (from mljar-supervised) (1.2)\n",
      "Requirement already satisfied: joblib>=1.0.1 in c:\\users\\de\\appdata\\roaming\\python\\python311\\site-packages (from mljar-supervised) (1.2.0)\n",
      "Requirement already satisfied: tabulate>=0.8.7 in c:\\users\\de\\appdata\\roaming\\python\\python311\\site-packages (from mljar-supervised) (0.9.0)\n",
      "Requirement already satisfied: matplotlib>=3.2.2 in c:\\users\\de\\appdata\\roaming\\python\\python311\\site-packages (from mljar-supervised) (3.7.1)\n",
      "Requirement already satisfied: dtreeviz>=2.0.0 in c:\\users\\de\\appdata\\roaming\\python\\python311\\site-packages (from mljar-supervised) (2.2.1)\n",
      "Requirement already satisfied: shap>=0.36.0 in c:\\users\\de\\appdata\\roaming\\python\\python311\\site-packages (from mljar-supervised) (0.41.0)\n",
      "Requirement already satisfied: seaborn>=0.11.1 in c:\\users\\de\\appdata\\roaming\\python\\python311\\site-packages (from mljar-supervised) (0.12.2)\n",
      "Requirement already satisfied: wordcloud>=1.8.1 in c:\\users\\de\\appdata\\roaming\\python\\python311\\site-packages (from mljar-supervised) (1.9.2)\n",
      "Requirement already satisfied: category-encoders>=2.2.2 in c:\\users\\de\\appdata\\roaming\\python\\python311\\site-packages (from mljar-supervised) (2.6.1)\n",
      "Requirement already satisfied: optuna>=2.7.0 in c:\\users\\de\\appdata\\roaming\\python\\python311\\site-packages (from mljar-supervised) (3.2.0)\n",
      "Requirement already satisfied: scikit-plot==0.3.7 in c:\\users\\de\\appdata\\roaming\\python\\python311\\site-packages (from mljar-supervised) (0.3.7)\n",
      "Requirement already satisfied: markdown in c:\\users\\de\\appdata\\roaming\\python\\python311\\site-packages (from mljar-supervised) (3.4.3)\n",
      "Requirement already satisfied: typing-extensions in c:\\users\\de\\appdata\\roaming\\python\\python311\\site-packages (from mljar-supervised) (4.5.0)\n",
      "Requirement already satisfied: graphviz in c:\\users\\de\\appdata\\roaming\\python\\python311\\site-packages (from catboost>=0.24.4->mljar-supervised) (0.20.1)\n",
      "Requirement already satisfied: plotly in c:\\users\\de\\appdata\\roaming\\python\\python311\\site-packages (from catboost>=0.24.4->mljar-supervised) (5.15.0)\n",
      "Requirement already satisfied: six in c:\\users\\de\\appdata\\roaming\\python\\python311\\site-packages (from catboost>=0.24.4->mljar-supervised) (1.16.0)\n",
      "Requirement already satisfied: statsmodels>=0.9.0 in c:\\users\\de\\appdata\\roaming\\python\\python311\\site-packages (from category-encoders>=2.2.2->mljar-supervised) (0.14.0)\n",
      "Requirement already satisfied: patsy>=0.5.1 in c:\\users\\de\\appdata\\roaming\\python\\python311\\site-packages (from category-encoders>=2.2.2->mljar-supervised) (0.5.3)\n",
      "Requirement already satisfied: colour in c:\\users\\de\\appdata\\roaming\\python\\python311\\site-packages (from dtreeviz>=2.0.0->mljar-supervised) (0.1.5)\n",
      "Requirement already satisfied: pytest in c:\\users\\de\\appdata\\roaming\\python\\python311\\site-packages (from dtreeviz>=2.0.0->mljar-supervised) (7.3.1)\n",
      "Requirement already satisfied: wheel in c:\\users\\de\\appdata\\roaming\\python\\python311\\site-packages (from lightgbm>=3.0.0->mljar-supervised) (0.40.0)\n",
      "Requirement already satisfied: contourpy>=1.0.1 in c:\\users\\de\\appdata\\roaming\\python\\python311\\site-packages (from matplotlib>=3.2.2->mljar-supervised) (1.0.7)\n",
      "Requirement already satisfied: cycler>=0.10 in c:\\users\\de\\appdata\\roaming\\python\\python311\\site-packages (from matplotlib>=3.2.2->mljar-supervised) (0.11.0)\n",
      "Requirement already satisfied: fonttools>=4.22.0 in c:\\users\\de\\appdata\\roaming\\python\\python311\\site-packages (from matplotlib>=3.2.2->mljar-supervised) (4.39.3)\n",
      "Requirement already satisfied: kiwisolver>=1.0.1 in c:\\users\\de\\appdata\\roaming\\python\\python311\\site-packages (from matplotlib>=3.2.2->mljar-supervised) (1.4.4)\n",
      "Requirement already satisfied: packaging>=20.0 in c:\\users\\de\\appdata\\roaming\\python\\python311\\site-packages (from matplotlib>=3.2.2->mljar-supervised) (23.0)\n",
      "Requirement already satisfied: pillow>=6.2.0 in c:\\users\\de\\appdata\\roaming\\python\\python311\\site-packages (from matplotlib>=3.2.2->mljar-supervised) (9.5.0)\n",
      "Requirement already satisfied: pyparsing>=2.3.1 in c:\\users\\de\\appdata\\roaming\\python\\python311\\site-packages (from matplotlib>=3.2.2->mljar-supervised) (3.0.9)\n",
      "Requirement already satisfied: python-dateutil>=2.7 in c:\\users\\de\\appdata\\roaming\\python\\python311\\site-packages (from matplotlib>=3.2.2->mljar-supervised) (2.8.2)\n",
      "Requirement already satisfied: alembic>=1.5.0 in c:\\users\\de\\appdata\\roaming\\python\\python311\\site-packages (from optuna>=2.7.0->mljar-supervised) (1.11.1)\n",
      "Requirement already satisfied: cmaes>=0.9.1 in c:\\users\\de\\appdata\\roaming\\python\\python311\\site-packages (from optuna>=2.7.0->mljar-supervised) (0.9.1)\n",
      "Requirement already satisfied: colorlog in c:\\users\\de\\appdata\\roaming\\python\\python311\\site-packages (from optuna>=2.7.0->mljar-supervised) (6.7.0)\n",
      "Requirement already satisfied: sqlalchemy>=1.3.0 in c:\\users\\de\\appdata\\roaming\\python\\python311\\site-packages (from optuna>=2.7.0->mljar-supervised) (2.0.15)\n",
      "Requirement already satisfied: tqdm in c:\\users\\de\\appdata\\roaming\\python\\python311\\site-packages (from optuna>=2.7.0->mljar-supervised) (4.65.0)\n",
      "Requirement already satisfied: PyYAML in c:\\users\\de\\appdata\\roaming\\python\\python311\\site-packages (from optuna>=2.7.0->mljar-supervised) (6.0)\n",
      "Requirement already satisfied: pytz>=2020.1 in c:\\users\\de\\appdata\\roaming\\python\\python311\\site-packages (from pandas>=1.2.0->mljar-supervised) (2023.3)\n",
      "Requirement already satisfied: tzdata>=2022.1 in c:\\users\\de\\appdata\\roaming\\python\\python311\\site-packages (from pandas>=1.2.0->mljar-supervised) (2023.3)\n",
      "Requirement already satisfied: threadpoolctl>=2.0.0 in c:\\users\\de\\appdata\\roaming\\python\\python311\\site-packages (from scikit-learn>=1.0->mljar-supervised) (3.1.0)\n",
      "Requirement already satisfied: slicer==0.0.7 in c:\\users\\de\\appdata\\roaming\\python\\python311\\site-packages (from shap>=0.36.0->mljar-supervised) (0.0.7)\n",
      "Requirement already satisfied: numba in c:\\users\\de\\appdata\\roaming\\python\\python311\\site-packages (from shap>=0.36.0->mljar-supervised) (0.57.0)\n",
      "Requirement already satisfied: cloudpickle in c:\\users\\de\\appdata\\roaming\\python\\python311\\site-packages (from shap>=0.36.0->mljar-supervised) (2.2.1)\n",
      "Requirement already satisfied: Mako in c:\\users\\de\\appdata\\roaming\\python\\python311\\site-packages (from alembic>=1.5.0->optuna>=2.7.0->mljar-supervised) (1.2.4)\n",
      "Requirement already satisfied: greenlet!=0.4.17 in c:\\users\\de\\appdata\\roaming\\python\\python311\\site-packages (from sqlalchemy>=1.3.0->optuna>=2.7.0->mljar-supervised) (2.0.2)\n",
      "Requirement already satisfied: colorama in c:\\users\\de\\appdata\\roaming\\python\\python311\\site-packages (from tqdm->optuna>=2.7.0->mljar-supervised) (0.4.6)\n",
      "Requirement already satisfied: llvmlite<0.41,>=0.40.0dev0 in c:\\users\\de\\appdata\\roaming\\python\\python311\\site-packages (from numba->shap>=0.36.0->mljar-supervised) (0.40.1rc1)\n",
      "Requirement already satisfied: tenacity>=6.2.0 in c:\\users\\de\\appdata\\roaming\\python\\python311\\site-packages (from plotly->catboost>=0.24.4->mljar-supervised) (8.2.2)\n",
      "Requirement already satisfied: iniconfig in c:\\users\\de\\appdata\\roaming\\python\\python311\\site-packages (from pytest->dtreeviz>=2.0.0->mljar-supervised) (2.0.0)\n",
      "Requirement already satisfied: pluggy<2.0,>=0.12 in c:\\users\\de\\appdata\\roaming\\python\\python311\\site-packages (from pytest->dtreeviz>=2.0.0->mljar-supervised) (1.0.0)\n",
      "Requirement already satisfied: MarkupSafe>=0.9.2 in c:\\users\\de\\appdata\\roaming\\python\\python311\\site-packages (from Mako->alembic>=1.5.0->optuna>=2.7.0->mljar-supervised) (2.1.2)\n"
     ]
    }
   ],
   "source": [
    "!pip install -U pip\n",
    "# mljarライブラリをインストール\n",
    "!pip install mljar-supervised"
   ]
  },
  {
   "cell_type": "code",
   "execution_count": 9,
   "metadata": {},
   "outputs": [],
   "source": [
    "# 必要なライブラリをインポート\n",
    "import pandas as pd\n",
    "import numpy as np\n",
    "from sklearn.model_selection import train_test_split\n",
    "from supervised.automl import AutoML"
   ]
  },
  {
   "cell_type": "code",
   "execution_count": 19,
   "metadata": {},
   "outputs": [],
   "source": [
    "# データセットをデータフレームに読み込む\n",
    "df = pd.read_csv(\"./original/train.csv\")"
   ]
  },
  {
   "cell_type": "code",
   "execution_count": null,
   "metadata": {},
   "outputs": [],
   "source": [
    "train = pd.read_csv(\"./original/train.csv\")\n",
    "test = pd.read_csv(\"./original/test.csv\")\n",
    "sample = pd.read_csv(\"./original/sample.csv\",header=None)"
   ]
  },
  {
   "cell_type": "code",
   "execution_count": 20,
   "metadata": {},
   "outputs": [],
   "source": [
    "df=train\n",
    "\n",
    "# 分析用の説明変数を選択しておく\n",
    "anacols=[\"datetime\",\"week\",\"soldout\",\"name\",\"kcal\",\"remarks\",\"event\",\"payday\",\"weather\",\"precipitation\"]\n",
    "# Xとyの作成\n",
    "X = df[anacols] # 説明変数\n",
    "y = df[\"temperature\"] # 目的変数"
   ]
  },
  {
   "cell_type": "code",
   "execution_count": 21,
   "metadata": {},
   "outputs": [],
   "source": [
    "# 訓練データとテストデータへ分割する\n",
    "X_train, X_test, y_train, y_test = train_test_split(X, y, test_size=0.2, random_state=100)"
   ]
  },
  {
   "cell_type": "code",
   "execution_count": 22,
   "metadata": {},
   "outputs": [
    {
     "name": "stdout",
     "output_type": "stream",
     "text": [
      "AutoML directory: AutoML_2\n",
      "The task is regression with evaluation metric rmse\n",
      "AutoML will use algorithms: ['Baseline', 'Linear', 'Decision Tree', 'Random Forest', 'Xgboost', 'Neural Network']\n",
      "AutoML will ensemble available models\n",
      "AutoML steps: ['simple_algorithms', 'default_algorithms', 'ensemble']\n",
      "* Step simple_algorithms will try to check up to 3 models\n",
      "1_Baseline rmse 8.686231 trained in 0.76 seconds\n",
      "Exception while producing SHAP explanations. module 'numpy' has no attribute 'bool'.\n",
      "`np.bool` was a deprecated alias for the builtin `bool`. To avoid this error in existing code, use `bool` by itself. Doing this will not modify any behavior and is safe. If you specifically wanted the numpy scalar type, use `np.bool_` here.\n",
      "The aliases was originally deprecated in NumPy 1.20; for more details and guidance see the original release note at:\n",
      "    https://numpy.org/devdocs/release/1.20.0-notes.html#deprecations\n",
      "Continuing ...\n",
      "2_DecisionTree rmse 12.055134 trained in 0.56 seconds\n",
      "Exception while producing SHAP explanations. module 'numpy' has no attribute 'bool'.\n",
      "`np.bool` was a deprecated alias for the builtin `bool`. To avoid this error in existing code, use `bool` by itself. Doing this will not modify any behavior and is safe. If you specifically wanted the numpy scalar type, use `np.bool_` here.\n",
      "The aliases was originally deprecated in NumPy 1.20; for more details and guidance see the original release note at:\n",
      "    https://numpy.org/devdocs/release/1.20.0-notes.html#deprecations\n",
      "Continuing ...\n",
      "3_Linear rmse 30.174896 trained in 0.69 seconds\n",
      "There was an error during 3_Linear training.\n",
      "Please check AutoML_2\\errors.md for details.\n",
      "* Step default_algorithms will try to check up to 3 models\n",
      "Exception while producing SHAP explanations. module 'numpy' has no attribute 'int'.\n",
      "`np.int` was a deprecated alias for the builtin `int`. To avoid this error in existing code, use `int` by itself. Doing this will not modify any behavior and is safe. When replacing `np.int`, you may wish to use e.g. `np.int64` or `np.int32` to specify the precision. If you wish to review your current use, check the release note link for additional information.\n",
      "The aliases was originally deprecated in NumPy 1.20; for more details and guidance see the original release note at:\n",
      "    https://numpy.org/devdocs/release/1.20.0-notes.html#deprecations\n",
      "Continuing ...\n",
      "4_Default_Xgboost rmse 8.774572 trained in 1.05 seconds\n",
      "There was an error during 4_Default_Xgboost training.\n",
      "Please check AutoML_2\\errors.md for details.\n",
      "5_Default_NeuralNetwork rmse 24.646026 trained in 0.82 seconds\n",
      "There was an error during 5_Default_NeuralNetwork training.\n",
      "Please check AutoML_2\\errors.md for details.\n",
      "Exception while producing SHAP explanations. module 'numpy' has no attribute 'bool'.\n",
      "`np.bool` was a deprecated alias for the builtin `bool`. To avoid this error in existing code, use `bool` by itself. Doing this will not modify any behavior and is safe. If you specifically wanted the numpy scalar type, use `np.bool_` here.\n",
      "The aliases was originally deprecated in NumPy 1.20; for more details and guidance see the original release note at:\n",
      "    https://numpy.org/devdocs/release/1.20.0-notes.html#deprecations\n",
      "Continuing ...\n",
      "6_Default_RandomForest rmse 10.697777 trained in 0.91 seconds\n",
      "There was an error during 6_Default_RandomForest training.\n",
      "Please check AutoML_2\\errors.md for details.\n",
      "* Step ensemble will try to check up to 1 model\n",
      "Ensemble rmse 8.613425 trained in 0.17 seconds\n",
      "AutoML fit time: 14.13 seconds\n",
      "AutoML best model: Ensemble\n"
     ]
    },
    {
     "data": {
      "text/html": [
       "<style>#sk-container-id-2 {color: black;background-color: white;}#sk-container-id-2 pre{padding: 0;}#sk-container-id-2 div.sk-toggleable {background-color: white;}#sk-container-id-2 label.sk-toggleable__label {cursor: pointer;display: block;width: 100%;margin-bottom: 0;padding: 0.3em;box-sizing: border-box;text-align: center;}#sk-container-id-2 label.sk-toggleable__label-arrow:before {content: \"▸\";float: left;margin-right: 0.25em;color: #696969;}#sk-container-id-2 label.sk-toggleable__label-arrow:hover:before {color: black;}#sk-container-id-2 div.sk-estimator:hover label.sk-toggleable__label-arrow:before {color: black;}#sk-container-id-2 div.sk-toggleable__content {max-height: 0;max-width: 0;overflow: hidden;text-align: left;background-color: #f0f8ff;}#sk-container-id-2 div.sk-toggleable__content pre {margin: 0.2em;color: black;border-radius: 0.25em;background-color: #f0f8ff;}#sk-container-id-2 input.sk-toggleable__control:checked~div.sk-toggleable__content {max-height: 200px;max-width: 100%;overflow: auto;}#sk-container-id-2 input.sk-toggleable__control:checked~label.sk-toggleable__label-arrow:before {content: \"▾\";}#sk-container-id-2 div.sk-estimator input.sk-toggleable__control:checked~label.sk-toggleable__label {background-color: #d4ebff;}#sk-container-id-2 div.sk-label input.sk-toggleable__control:checked~label.sk-toggleable__label {background-color: #d4ebff;}#sk-container-id-2 input.sk-hidden--visually {border: 0;clip: rect(1px 1px 1px 1px);clip: rect(1px, 1px, 1px, 1px);height: 1px;margin: -1px;overflow: hidden;padding: 0;position: absolute;width: 1px;}#sk-container-id-2 div.sk-estimator {font-family: monospace;background-color: #f0f8ff;border: 1px dotted black;border-radius: 0.25em;box-sizing: border-box;margin-bottom: 0.5em;}#sk-container-id-2 div.sk-estimator:hover {background-color: #d4ebff;}#sk-container-id-2 div.sk-parallel-item::after {content: \"\";width: 100%;border-bottom: 1px solid gray;flex-grow: 1;}#sk-container-id-2 div.sk-label:hover label.sk-toggleable__label {background-color: #d4ebff;}#sk-container-id-2 div.sk-serial::before {content: \"\";position: absolute;border-left: 1px solid gray;box-sizing: border-box;top: 0;bottom: 0;left: 50%;z-index: 0;}#sk-container-id-2 div.sk-serial {display: flex;flex-direction: column;align-items: center;background-color: white;padding-right: 0.2em;padding-left: 0.2em;position: relative;}#sk-container-id-2 div.sk-item {position: relative;z-index: 1;}#sk-container-id-2 div.sk-parallel {display: flex;align-items: stretch;justify-content: center;background-color: white;position: relative;}#sk-container-id-2 div.sk-item::before, #sk-container-id-2 div.sk-parallel-item::before {content: \"\";position: absolute;border-left: 1px solid gray;box-sizing: border-box;top: 0;bottom: 0;left: 50%;z-index: -1;}#sk-container-id-2 div.sk-parallel-item {display: flex;flex-direction: column;z-index: 1;position: relative;background-color: white;}#sk-container-id-2 div.sk-parallel-item:first-child::after {align-self: flex-end;width: 50%;}#sk-container-id-2 div.sk-parallel-item:last-child::after {align-self: flex-start;width: 50%;}#sk-container-id-2 div.sk-parallel-item:only-child::after {width: 0;}#sk-container-id-2 div.sk-dashed-wrapped {border: 1px dashed gray;margin: 0 0.4em 0.5em 0.4em;box-sizing: border-box;padding-bottom: 0.4em;background-color: white;}#sk-container-id-2 div.sk-label label {font-family: monospace;font-weight: bold;display: inline-block;line-height: 1.2em;}#sk-container-id-2 div.sk-label-container {text-align: center;}#sk-container-id-2 div.sk-container {/* jupyter's `normalize.less` sets `[hidden] { display: none; }` but bootstrap.min.css set `[hidden] { display: none !important; }` so we also need the `!important` here to be able to override the default hidden behavior on the sphinx rendered scikit-learn.org. See: https://github.com/scikit-learn/scikit-learn/issues/21755 */display: inline-block !important;position: relative;}#sk-container-id-2 div.sk-text-repr-fallback {display: none;}</style><div id=\"sk-container-id-2\" class=\"sk-top-container\"><div class=\"sk-text-repr-fallback\"><pre>AutoML()</pre><b>In a Jupyter environment, please rerun this cell to show the HTML representation or trust the notebook. <br />On GitHub, the HTML representation is unable to render, please try loading this page with nbviewer.org.</b></div><div class=\"sk-container\" hidden><div class=\"sk-item\"><div class=\"sk-estimator sk-toggleable\"><input class=\"sk-toggleable__control sk-hidden--visually\" id=\"sk-estimator-id-2\" type=\"checkbox\" checked><label for=\"sk-estimator-id-2\" class=\"sk-toggleable__label sk-toggleable__label-arrow\">AutoML</label><div class=\"sk-toggleable__content\"><pre>AutoML()</pre></div></div></div></div></div>"
      ],
      "text/plain": [
       "AutoML()"
      ]
     },
     "execution_count": 22,
     "metadata": {},
     "output_type": "execute_result"
    }
   ],
   "source": [
    "# mljarのautomlモデルを作成\n",
    "automl = AutoML()\n",
    "automl.fit(X_train,y_train)"
   ]
  },
  {
   "cell_type": "code",
   "execution_count": 23,
   "metadata": {},
   "outputs": [],
   "source": [
    "# テストデータにモデルを適用し住宅価格の予測をする\n",
    "pred = automl.predict_all(X_test)"
   ]
  },
  {
   "cell_type": "code",
   "execution_count": 24,
   "metadata": {},
   "outputs": [
    {
     "data": {
      "text/html": [
       "<div>\n",
       "<style scoped>\n",
       "    .dataframe tbody tr th:only-of-type {\n",
       "        vertical-align: middle;\n",
       "    }\n",
       "\n",
       "    .dataframe tbody tr th {\n",
       "        vertical-align: top;\n",
       "    }\n",
       "\n",
       "    .dataframe thead th {\n",
       "        text-align: right;\n",
       "    }\n",
       "</style>\n",
       "<table border=\"1\" class=\"dataframe\">\n",
       "  <thead>\n",
       "    <tr style=\"text-align: right;\">\n",
       "      <th></th>\n",
       "      <th>prediction</th>\n",
       "    </tr>\n",
       "  </thead>\n",
       "  <tbody>\n",
       "    <tr>\n",
       "      <th>0</th>\n",
       "      <td>19.450016</td>\n",
       "    </tr>\n",
       "    <tr>\n",
       "      <th>1</th>\n",
       "      <td>19.605418</td>\n",
       "    </tr>\n",
       "    <tr>\n",
       "      <th>2</th>\n",
       "      <td>19.605418</td>\n",
       "    </tr>\n",
       "    <tr>\n",
       "      <th>3</th>\n",
       "      <td>19.537971</td>\n",
       "    </tr>\n",
       "    <tr>\n",
       "      <th>4</th>\n",
       "      <td>19.537971</td>\n",
       "    </tr>\n",
       "  </tbody>\n",
       "</table>\n",
       "</div>"
      ],
      "text/plain": [
       "   prediction\n",
       "0   19.450016\n",
       "1   19.605418\n",
       "2   19.605418\n",
       "3   19.537971\n",
       "4   19.537971"
      ]
     },
     "execution_count": 24,
     "metadata": {},
     "output_type": "execute_result"
    }
   ],
   "source": [
    "# 予測結果の確認\n",
    "pred.head()"
   ]
  },
  {
   "cell_type": "code",
   "execution_count": 25,
   "metadata": {},
   "outputs": [
    {
     "name": "stdout",
     "output_type": "stream",
     "text": [
      "MAE(test) 7.066457232205633\n",
      "RMSE(test) 8.388734206672789\n"
     ]
    }
   ],
   "source": [
    "# 精度確認\n",
    "from sklearn.metrics import mean_absolute_error\n",
    "from sklearn.metrics import mean_squared_error\n",
    "print(\"MAE(test)\", str(mean_absolute_error(y_test, pred.prediction)))\n",
    "print(\"RMSE(test)\",str(np.sqrt(mean_squared_error(y_test, pred.prediction))))"
   ]
  },
  {
   "cell_type": "code",
   "execution_count": 26,
   "metadata": {},
   "outputs": [],
   "source": [
    "# データセットをデータフレームに読み込む\n",
    "df = pd.read_csv(\"./original/test.csv\")"
   ]
  },
  {
   "cell_type": "code",
   "execution_count": null,
   "metadata": {},
   "outputs": [],
   "source": [
    "# テストデータにモデルを適用し住宅価格の予測をする\n",
    "pred = automl.predict_all(X_test)"
   ]
  }
 ],
 "metadata": {
  "kernelspec": {
   "display_name": "Python 3",
   "language": "python",
   "name": "python3"
  },
  "language_info": {
   "codemirror_mode": {
    "name": "ipython",
    "version": 3
   },
   "file_extension": ".py",
   "mimetype": "text/x-python",
   "name": "python",
   "nbconvert_exporter": "python",
   "pygments_lexer": "ipython3",
   "version": "3.11.3"
  },
  "orig_nbformat": 4
 },
 "nbformat": 4,
 "nbformat_minor": 2
}
