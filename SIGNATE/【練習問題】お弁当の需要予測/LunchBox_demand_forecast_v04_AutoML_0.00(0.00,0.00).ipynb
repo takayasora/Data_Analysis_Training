{
 "cells": [
  {
   "cell_type": "code",
   "execution_count": 2,
   "metadata": {},
   "outputs": [
    {
     "name": "stdout",
     "output_type": "stream",
     "text": [
      "AutoML directory: ./outputML/\n",
      "The task is regression with evaluation metric rmse\n",
      "AutoML will use algorithms: ['Baseline', 'Linear', 'Decision Tree', 'Random Forest', 'Xgboost', 'Neural Network']\n",
      "AutoML will ensemble available models\n",
      "AutoML steps: ['simple_algorithms', 'default_algorithms', 'ensemble']\n",
      "* Step simple_algorithms will try to check up to 3 models\n",
      "1_Baseline rmse 9.423235 trained in 0.55 seconds\n",
      "Exception while producing SHAP explanations. module 'numpy' has no attribute 'bool'.\n",
      "`np.bool` was a deprecated alias for the builtin `bool`. To avoid this error in existing code, use `bool` by itself. Doing this will not modify any behavior and is safe. If you specifically wanted the numpy scalar type, use `np.bool_` here.\n",
      "The aliases was originally deprecated in NumPy 1.20; for more details and guidance see the original release note at:\n",
      "    https://numpy.org/devdocs/release/1.20.0-notes.html#deprecations\n",
      "Continuing ...\n",
      "2_DecisionTree rmse 10.673499 trained in 38.57 seconds\n",
      "Exception while producing SHAP explanations. module 'numpy' has no attribute 'bool'.\n",
      "`np.bool` was a deprecated alias for the builtin `bool`. To avoid this error in existing code, use `bool` by itself. Doing this will not modify any behavior and is safe. If you specifically wanted the numpy scalar type, use `np.bool_` here.\n",
      "The aliases was originally deprecated in NumPy 1.20; for more details and guidance see the original release note at:\n",
      "    https://numpy.org/devdocs/release/1.20.0-notes.html#deprecations\n",
      "Continuing ...\n",
      "3_Linear rmse 14.925659 trained in 0.55 seconds\n",
      "There was an error during 3_Linear training.\n",
      "Please check ./outputML/errors.md for details.\n",
      "* Step default_algorithms will try to check up to 3 models\n",
      "Exception while producing SHAP explanations. module 'numpy' has no attribute 'int'.\n",
      "`np.int` was a deprecated alias for the builtin `int`. To avoid this error in existing code, use `int` by itself. Doing this will not modify any behavior and is safe. When replacing `np.int`, you may wish to use e.g. `np.int64` or `np.int32` to specify the precision. If you wish to review your current use, check the release note link for additional information.\n",
      "The aliases was originally deprecated in NumPy 1.20; for more details and guidance see the original release note at:\n",
      "    https://numpy.org/devdocs/release/1.20.0-notes.html#deprecations\n",
      "Continuing ...\n",
      "4_Default_Xgboost rmse 10.422392 trained in 0.75 seconds\n",
      "There was an error during 4_Default_Xgboost training.\n",
      "Please check ./outputML/errors.md for details.\n",
      "5_Default_NeuralNetwork rmse 39.92017 trained in 0.65 seconds\n",
      "There was an error during 5_Default_NeuralNetwork training.\n",
      "Please check ./outputML/errors.md for details.\n",
      "Exception while producing SHAP explanations. module 'numpy' has no attribute 'bool'.\n",
      "`np.bool` was a deprecated alias for the builtin `bool`. To avoid this error in existing code, use `bool` by itself. Doing this will not modify any behavior and is safe. If you specifically wanted the numpy scalar type, use `np.bool_` here.\n",
      "The aliases was originally deprecated in NumPy 1.20; for more details and guidance see the original release note at:\n",
      "    https://numpy.org/devdocs/release/1.20.0-notes.html#deprecations\n",
      "Continuing ...\n",
      "6_Default_RandomForest rmse 9.377818 trained in 2.39 seconds\n",
      "There was an error during 6_Default_RandomForest training.\n",
      "Please check ./outputML/errors.md for details.\n",
      "* Step ensemble will try to check up to 1 model\n",
      "Ensemble rmse 9.289103 trained in 0.15 seconds\n",
      "AutoML fit time: 49.13 seconds\n",
      "AutoML best model: Ensemble\n"
     ]
    },
    {
     "ename": "AttributeError",
     "evalue": "'DatetimeProperties' object has no attribute 'week'",
     "output_type": "error",
     "traceback": [
      "\u001b[1;31m---------------------------------------------------------------------------\u001b[0m",
      "\u001b[1;31mAttributeError\u001b[0m                            Traceback (most recent call last)",
      "Cell \u001b[1;32mIn[2], line 25\u001b[0m\n\u001b[0;32m     23\u001b[0m \u001b[39m# 予測対象のサンプルデータにweek列を追加\u001b[39;00m\n\u001b[0;32m     24\u001b[0m sample\u001b[39m.\u001b[39mcolumns \u001b[39m=\u001b[39m [\u001b[39m\"\u001b[39m\u001b[39mdatetime\u001b[39m\u001b[39m\"\u001b[39m, \u001b[39m\"\u001b[39m\u001b[39mtemperature\u001b[39m\u001b[39m\"\u001b[39m]\n\u001b[1;32m---> 25\u001b[0m sample[\u001b[39m\"\u001b[39m\u001b[39mweek\u001b[39m\u001b[39m\"\u001b[39m] \u001b[39m=\u001b[39m pd\u001b[39m.\u001b[39;49mto_datetime(sample[\u001b[39m\"\u001b[39;49m\u001b[39mdatetime\u001b[39;49m\u001b[39m\"\u001b[39;49m])\u001b[39m.\u001b[39;49mdt\u001b[39m.\u001b[39;49mweek\n\u001b[0;32m     27\u001b[0m \u001b[39m# サンプルデータに対して予測を行う\u001b[39;00m\n\u001b[0;32m     28\u001b[0m sample_predictions \u001b[39m=\u001b[39m automl\u001b[39m.\u001b[39mpredict_all(sample)\n",
      "\u001b[1;31mAttributeError\u001b[0m: 'DatetimeProperties' object has no attribute 'week'"
     ]
    }
   ],
   "source": [
    "# 必要なライブラリをインポート\n",
    "import pandas as pd\n",
    "import numpy as np\n",
    "from sklearn.model_selection import train_test_split\n",
    "from supervised.automl import AutoML\n",
    "\n",
    "train = pd.read_csv(\"./original/train.csv\")\n",
    "test = pd.read_csv(\"./original/test.csv\")\n",
    "sample = pd.read_csv(\"./original/sample.csv\", header=None)\n",
    "\n",
    "# 分析用の説明変数を選択しておく\n",
    "anacols = [\"datetime\", \"week\", \"soldout\", \"name\", \"kcal\", \"remarks\", \"event\", \"payday\", \"weather\", \"precipitation\"]\n",
    "# Xとyの作成\n",
    "X_train = train[anacols] # 説明変数\n",
    "y_train = train[\"temperature\"] # 目的変数\n",
    "X_test = test[anacols] # 説明変数\n",
    "y_test = test[\"temperature\"] # 目的変数\n",
    "\n",
    "# mljarのautomlモデルを作成\n",
    "automl = AutoML(results_path=r\"./outputML/\")\n",
    "automl.fit(X_train, y_train)\n",
    "\n",
    "# テストデータにモデルを適用し住宅価格の予測をする\n",
    "pred = automl.predict_all(X_test)\n",
    "\n",
    "# 予測結果の確認\n",
    "pred.head()\n",
    "\n",
    "# 精度確認\n",
    "from sklearn.metrics import mean_absolute_error\n",
    "from sklearn.metrics import mean_squared_error\n",
    "print(\"MAE(test)\", str(mean_absolute_error(y_test, pred.prediction)))\n",
    "print(\"RMSE(test)\",str(np.sqrt(mean_squared_error(y_test, pred.prediction))))\n",
    "\n",
    "# データセットをデータフレームに読み込む\n",
    "df = pd.read_csv(\"./original/test.csv\")\n"
   ]
  }
 ],
 "metadata": {
  "kernelspec": {
   "display_name": "Python 3",
   "language": "python",
   "name": "python3"
  },
  "language_info": {
   "codemirror_mode": {
    "name": "ipython",
    "version": 3
   },
   "file_extension": ".py",
   "mimetype": "text/x-python",
   "name": "python",
   "nbconvert_exporter": "python",
   "pygments_lexer": "ipython3",
   "version": "3.11.3"
  },
  "orig_nbformat": 4
 },
 "nbformat": 4,
 "nbformat_minor": 2
}
