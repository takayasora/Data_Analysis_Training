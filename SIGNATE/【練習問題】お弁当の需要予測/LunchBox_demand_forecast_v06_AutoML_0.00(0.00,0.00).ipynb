{
 "cells": [
  {
   "cell_type": "code",
   "execution_count": 6,
   "metadata": {},
   "outputs": [
    {
     "name": "stderr",
     "output_type": "stream",
     "text": [
      "2023-06-10 17:01:45,351 supervised.exceptions ERROR Cannot set directory for AutoML. Directory './outputML/' is not empty.\n"
     ]
    },
    {
     "ename": "AutoMLException",
     "evalue": "Cannot set directory for AutoML. Directory './outputML/' is not empty.",
     "output_type": "error",
     "traceback": [
      "\u001b[1;31m---------------------------------------------------------------------------\u001b[0m",
      "\u001b[1;31mAutoMLException\u001b[0m                           Traceback (most recent call last)",
      "Cell \u001b[1;32mIn[6], line 22\u001b[0m\n\u001b[0;32m     20\u001b[0m \u001b[39m# mljarのautomlモデルを作成\u001b[39;00m\n\u001b[0;32m     21\u001b[0m automl \u001b[39m=\u001b[39m AutoML(results_path\u001b[39m=\u001b[39m\u001b[39mr\u001b[39m\u001b[39m\"\u001b[39m\u001b[39m./outputML/\u001b[39m\u001b[39m\"\u001b[39m)\n\u001b[1;32m---> 22\u001b[0m automl\u001b[39m.\u001b[39;49mfit(X_train, y_train)\n\u001b[0;32m     24\u001b[0m \u001b[39m# データを読み込む\u001b[39;00m\n\u001b[0;32m     25\u001b[0m data \u001b[39m=\u001b[39m pd\u001b[39m.\u001b[39mread_csv(\u001b[39m\"\u001b[39m\u001b[39m./original/sample.csv\u001b[39m\u001b[39m\"\u001b[39m)\n",
      "File \u001b[1;32m~\\AppData\\Roaming\\Python\\Python311\\site-packages\\supervised\\automl.py:368\u001b[0m, in \u001b[0;36mAutoML.fit\u001b[1;34m(self, X, y, sample_weight, cv)\u001b[0m\n\u001b[0;32m    346\u001b[0m \u001b[39mdef\u001b[39;00m \u001b[39mfit\u001b[39m(\n\u001b[0;32m    347\u001b[0m     \u001b[39mself\u001b[39m,\n\u001b[0;32m    348\u001b[0m     X: Union[numpy\u001b[39m.\u001b[39mndarray, pandas\u001b[39m.\u001b[39mDataFrame],\n\u001b[1;32m   (...)\u001b[0m\n\u001b[0;32m    351\u001b[0m     cv: Optional[Union[Iterable, List]] \u001b[39m=\u001b[39m \u001b[39mNone\u001b[39;00m,\n\u001b[0;32m    352\u001b[0m ):\n\u001b[0;32m    353\u001b[0m \u001b[39m    \u001b[39m\u001b[39m\"\"\"Fit the AutoML model.\u001b[39;00m\n\u001b[0;32m    354\u001b[0m \n\u001b[0;32m    355\u001b[0m \u001b[39m    Arguments:\u001b[39;00m\n\u001b[1;32m   (...)\u001b[0m\n\u001b[0;32m    366\u001b[0m \u001b[39m        AutoML object: Returns `self`\u001b[39;00m\n\u001b[0;32m    367\u001b[0m \u001b[39m    \"\"\"\u001b[39;00m\n\u001b[1;32m--> 368\u001b[0m     \u001b[39mreturn\u001b[39;00m \u001b[39mself\u001b[39;49m\u001b[39m.\u001b[39;49m_fit(X, y, sample_weight, cv)\n",
      "File \u001b[1;32m~\\AppData\\Roaming\\Python\\Python311\\site-packages\\supervised\\base_automl.py:909\u001b[0m, in \u001b[0;36mBaseAutoML._fit\u001b[1;34m(self, X, y, sample_weight, cv)\u001b[0m\n\u001b[0;32m    907\u001b[0m \u001b[39mself\u001b[39m\u001b[39m.\u001b[39m_mode \u001b[39m=\u001b[39m \u001b[39mself\u001b[39m\u001b[39m.\u001b[39m_get_mode()\n\u001b[0;32m    908\u001b[0m \u001b[39mself\u001b[39m\u001b[39m.\u001b[39m_ml_task \u001b[39m=\u001b[39m \u001b[39mself\u001b[39m\u001b[39m.\u001b[39m_get_ml_task()\n\u001b[1;32m--> 909\u001b[0m \u001b[39mself\u001b[39m\u001b[39m.\u001b[39m_results_path \u001b[39m=\u001b[39m \u001b[39mself\u001b[39;49m\u001b[39m.\u001b[39;49m_get_results_path()\n\u001b[0;32m    910\u001b[0m \u001b[39mself\u001b[39m\u001b[39m.\u001b[39m_total_time_limit \u001b[39m=\u001b[39m \u001b[39mself\u001b[39m\u001b[39m.\u001b[39m_get_total_time_limit()\n\u001b[0;32m    911\u001b[0m \u001b[39mself\u001b[39m\u001b[39m.\u001b[39m_model_time_limit \u001b[39m=\u001b[39m \u001b[39mself\u001b[39m\u001b[39m.\u001b[39m_get_model_time_limit()\n",
      "File \u001b[1;32m~\\AppData\\Roaming\\Python\\Python311\\site-packages\\supervised\\base_automl.py:1465\u001b[0m, in \u001b[0;36mBaseAutoML._get_results_path\u001b[1;34m(self)\u001b[0m\n\u001b[0;32m   1463\u001b[0m     \u001b[39mreturn\u001b[39;00m path\n\u001b[0;32m   1464\u001b[0m \u001b[39melif\u001b[39;00m os\u001b[39m.\u001b[39mpath\u001b[39m.\u001b[39mexists(path) \u001b[39mand\u001b[39;00m \u001b[39mlen\u001b[39m(os\u001b[39m.\u001b[39mlistdir(path)):\n\u001b[1;32m-> 1465\u001b[0m     \u001b[39mraise\u001b[39;00m AutoMLException(\n\u001b[0;32m   1466\u001b[0m         \u001b[39mf\u001b[39m\u001b[39m\"\u001b[39m\u001b[39mCannot set directory for AutoML. Directory \u001b[39m\u001b[39m'\u001b[39m\u001b[39m{\u001b[39;00mpath\u001b[39m}\u001b[39;00m\u001b[39m'\u001b[39m\u001b[39m is not empty.\u001b[39m\u001b[39m\"\u001b[39m\n\u001b[0;32m   1467\u001b[0m     )\n\u001b[0;32m   1469\u001b[0m \u001b[39mraise\u001b[39;00m AutoMLException(\u001b[39m\"\u001b[39m\u001b[39mCannot set directory for AutoML results\u001b[39m\u001b[39m\"\u001b[39m)\n",
      "\u001b[1;31mAutoMLException\u001b[0m: Cannot set directory for AutoML. Directory './outputML/' is not empty."
     ]
    }
   ],
   "source": [
    "# 必要なライブラリをインポート\n",
    "import pandas as pd\n",
    "import numpy as np\n",
    "from sklearn.model_selection import train_test_split\n",
    "from supervised.automl import AutoML\n",
    "\n",
    "train = pd.read_csv(\"./original/train.csv\")\n",
    "test = pd.read_csv(\"./original/test.csv\")\n",
    "sample = pd.read_csv(\"./original/sample.csv\", header=None)\n",
    "\n",
    "# 分析用の説明変数を選択しておく\n",
    "anacols = [\"datetime\", \"week\", \"soldout\", \"name\", \"kcal\", \"remarks\", \"event\", \"payday\", \"weather\", \"precipitation\"]\n",
    "\n",
    "# Xとyの作成\n",
    "X_train = train[anacols]  # 説明変数\n",
    "y_train = train[\"temperature\"]  # 目的変数\n",
    "X_test = test[anacols]  # 説明変数\n",
    "y_test = test[\"temperature\"]  # 目的変数\n",
    "\n",
    "# mljarのautomlモデルを作成\n",
    "automl = AutoML(results_path=r\"./outputML/\")\n",
    "automl.fit(X_train, y_train)\n",
    "\n",
    "# データを読み込む\n",
    "data = pd.read_csv(\"./original/sample.csv\")\n",
    "\n",
    "# 予測を行う\n",
    "predictions = automl.predict(data.iloc[:, 0].values.reshape(-1, 1))\n",
    "\n",
    "# 予測結果を2列目に上書きする\n",
    "data.iloc[:, 1] = predictions\n",
    "\n",
    "# 結果を保存\n",
    "data.to_csv(\"sample.csv\", index=False)\n"
   ]
  }
 ],
 "metadata": {
  "kernelspec": {
   "display_name": "Python 3",
   "language": "python",
   "name": "python3"
  },
  "language_info": {
   "codemirror_mode": {
    "name": "ipython",
    "version": 3
   },
   "file_extension": ".py",
   "mimetype": "text/x-python",
   "name": "python",
   "nbconvert_exporter": "python",
   "pygments_lexer": "ipython3",
   "version": "3.11.3"
  },
  "orig_nbformat": 4
 },
 "nbformat": 4,
 "nbformat_minor": 2
}
